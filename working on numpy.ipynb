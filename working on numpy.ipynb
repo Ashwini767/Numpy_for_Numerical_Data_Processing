{
 "cells": [
  {
   "cell_type": "code",
   "execution_count": 14,
   "id": "7913db69",
   "metadata": {},
   "outputs": [],
   "source": [
    "import numpy as np"
   ]
  },
  {
   "cell_type": "code",
   "execution_count": 2,
   "id": "98aac0f5",
   "metadata": {},
   "outputs": [
    {
     "data": {
      "text/plain": [
       "array([0, 1, 2, 3, 4, 5, 6, 7, 8, 9])"
      ]
     },
     "execution_count": 2,
     "metadata": {},
     "output_type": "execute_result"
    }
   ],
   "source": [
    "A=np.arange(10)\n",
    "A"
   ]
  },
  {
   "cell_type": "code",
   "execution_count": 3,
   "id": "600a1af8",
   "metadata": {},
   "outputs": [
    {
     "data": {
      "text/plain": [
       "array([[7, 7, 0, 9, 7, 7, 4, 3, 5, 7]])"
      ]
     },
     "execution_count": 3,
     "metadata": {},
     "output_type": "execute_result"
    }
   ],
   "source": [
    "B=np.random.randint(0,10,(1,10))\n",
    "B"
   ]
  },
  {
   "cell_type": "code",
   "execution_count": 6,
   "id": "0a457ae9",
   "metadata": {},
   "outputs": [
    {
     "data": {
      "text/plain": [
       "(1, 10)"
      ]
     },
     "execution_count": 6,
     "metadata": {},
     "output_type": "execute_result"
    }
   ],
   "source": [
    "B.shape\n"
   ]
  },
  {
   "cell_type": "code",
   "execution_count": 7,
   "id": "9838a942",
   "metadata": {},
   "outputs": [
    {
     "data": {
      "text/plain": [
       "(10,)"
      ]
     },
     "execution_count": 7,
     "metadata": {},
     "output_type": "execute_result"
    }
   ],
   "source": [
    "A.shape"
   ]
  },
  {
   "cell_type": "code",
   "execution_count": 8,
   "id": "819e48e5",
   "metadata": {},
   "outputs": [],
   "source": [
    "c=A[np.newaxis,:]"
   ]
  },
  {
   "cell_type": "code",
   "execution_count": 9,
   "id": "16d894ea",
   "metadata": {},
   "outputs": [
    {
     "data": {
      "text/plain": [
       "(1, 10)"
      ]
     },
     "execution_count": 9,
     "metadata": {},
     "output_type": "execute_result"
    }
   ],
   "source": [
    "c.shape"
   ]
  },
  {
   "cell_type": "code",
   "execution_count": 10,
   "id": "e8ce9d8d",
   "metadata": {},
   "outputs": [],
   "source": [
    "D=B+c"
   ]
  },
  {
   "cell_type": "code",
   "execution_count": 12,
   "id": "52ae5c33",
   "metadata": {},
   "outputs": [
    {
     "name": "stdout",
     "output_type": "stream",
     "text": [
      "[[ 7  8  2 12 11 12 10 10 13 16]]\n"
     ]
    }
   ],
   "source": [
    "print(D)"
   ]
  },
  {
   "cell_type": "code",
   "execution_count": 14,
   "id": "bbf2c217",
   "metadata": {},
   "outputs": [
    {
     "data": {
      "text/plain": [
       "(1, 10)"
      ]
     },
     "execution_count": 14,
     "metadata": {},
     "output_type": "execute_result"
    }
   ],
   "source": [
    "D.shape"
   ]
  },
  {
   "cell_type": "code",
   "execution_count": 15,
   "id": "fbc18060",
   "metadata": {},
   "outputs": [],
   "source": [
    "D=np.squeeze(D)"
   ]
  },
  {
   "cell_type": "code",
   "execution_count": 16,
   "id": "56c70d00",
   "metadata": {},
   "outputs": [
    {
     "data": {
      "text/plain": [
       "(10,)"
      ]
     },
     "execution_count": 16,
     "metadata": {},
     "output_type": "execute_result"
    }
   ],
   "source": [
    "D.shape"
   ]
  },
  {
   "cell_type": "code",
   "execution_count": 17,
   "id": "b054f575",
   "metadata": {},
   "outputs": [
    {
     "name": "stdout",
     "output_type": "stream",
     "text": [
      "[ 7  8  2 12 11 12 10 10 13 16]\n"
     ]
    }
   ],
   "source": [
    "print(D)"
   ]
  },
  {
   "cell_type": "code",
   "execution_count": 18,
   "id": "8889f7b9",
   "metadata": {},
   "outputs": [
    {
     "data": {
      "text/plain": [
       "array([ 7,  8,  2, 12, 11, 12, 10, 10, 13, 16])"
      ]
     },
     "execution_count": 18,
     "metadata": {},
     "output_type": "execute_result"
    }
   ],
   "source": [
    "D"
   ]
  },
  {
   "cell_type": "code",
   "execution_count": 19,
   "id": "3061336a",
   "metadata": {},
   "outputs": [],
   "source": [
    "C=np.add(A,D)"
   ]
  },
  {
   "cell_type": "code",
   "execution_count": 20,
   "id": "6464aa5a",
   "metadata": {},
   "outputs": [
    {
     "data": {
      "text/plain": [
       "array([ 7,  9,  4, 15, 15, 17, 16, 17, 21, 25])"
      ]
     },
     "execution_count": 20,
     "metadata": {},
     "output_type": "execute_result"
    }
   ],
   "source": [
    "C\n"
   ]
  },
  {
   "cell_type": "code",
   "execution_count": 21,
   "id": "904798e8",
   "metadata": {},
   "outputs": [
    {
     "data": {
      "text/plain": [
       "45"
      ]
     },
     "execution_count": 21,
     "metadata": {},
     "output_type": "execute_result"
    }
   ],
   "source": [
    "np.sum(A)"
   ]
  },
  {
   "cell_type": "code",
   "execution_count": 23,
   "id": "e855ea81",
   "metadata": {},
   "outputs": [
    {
     "data": {
      "text/plain": [
       "45"
      ]
     },
     "execution_count": 23,
     "metadata": {},
     "output_type": "execute_result"
    }
   ],
   "source": [
    "A.sum()"
   ]
  },
  {
   "cell_type": "code",
   "execution_count": 25,
   "id": "c3c2d216",
   "metadata": {},
   "outputs": [],
   "source": [
    "A=np.arange(80).reshape(2,2,5,4)"
   ]
  },
  {
   "cell_type": "code",
   "execution_count": 26,
   "id": "ee89e98e",
   "metadata": {},
   "outputs": [
    {
     "data": {
      "text/plain": [
       "4"
      ]
     },
     "execution_count": 26,
     "metadata": {},
     "output_type": "execute_result"
    }
   ],
   "source": [
    "A.ndim"
   ]
  },
  {
   "cell_type": "code",
   "execution_count": 27,
   "id": "17a88ce5",
   "metadata": {},
   "outputs": [],
   "source": [
    "B=A.sum(axis=0)"
   ]
  },
  {
   "cell_type": "code",
   "execution_count": 28,
   "id": "d1545d04",
   "metadata": {},
   "outputs": [
    {
     "data": {
      "text/plain": [
       "(2, 5, 4)"
      ]
     },
     "execution_count": 28,
     "metadata": {},
     "output_type": "execute_result"
    }
   ],
   "source": [
    "B.shape"
   ]
  },
  {
   "cell_type": "code",
   "execution_count": 29,
   "id": "2e622e6b",
   "metadata": {},
   "outputs": [],
   "source": [
    "c=np.sum(B,axis=2)"
   ]
  },
  {
   "cell_type": "code",
   "execution_count": 30,
   "id": "50245e3f",
   "metadata": {},
   "outputs": [
    {
     "data": {
      "text/plain": [
       "(2, 5)"
      ]
     },
     "execution_count": 30,
     "metadata": {},
     "output_type": "execute_result"
    }
   ],
   "source": [
    "c.shape"
   ]
  },
  {
   "cell_type": "code",
   "execution_count": 31,
   "id": "b70fb9bd",
   "metadata": {},
   "outputs": [
    {
     "data": {
      "text/plain": [
       "array([[172, 204, 236, 268, 300],\n",
       "       [332, 364, 396, 428, 460]])"
      ]
     },
     "execution_count": 31,
     "metadata": {},
     "output_type": "execute_result"
    }
   ],
   "source": [
    "c"
   ]
  },
  {
   "cell_type": "code",
   "execution_count": 32,
   "id": "c1ee26c4",
   "metadata": {},
   "outputs": [
    {
     "data": {
      "text/plain": [
       "array([504, 568, 632, 696, 760])"
      ]
     },
     "execution_count": 32,
     "metadata": {},
     "output_type": "execute_result"
    }
   ],
   "source": [
    "c.sum(axis=0)"
   ]
  },
  {
   "cell_type": "code",
   "execution_count": 37,
   "id": "4053823d",
   "metadata": {},
   "outputs": [
    {
     "name": "stdout",
     "output_type": "stream",
     "text": [
      "43.6 µs ± 902 ns per loop (mean ± std. dev. of 7 runs, 10000 loops each)\n",
      "40.3 µs ± 2.83 µs per loop (mean ± std. dev. of 7 runs, 10000 loops each)\n"
     ]
    }
   ],
   "source": [
    "n=100000\n",
    "A=np.random.rand(n)\n",
    "B=np.random.rand(n)\n",
    "%timeit A+B\n",
    "%timeit np.add(A,B)"
   ]
  },
  {
   "cell_type": "code",
   "execution_count": 38,
   "id": "881313a7",
   "metadata": {},
   "outputs": [
    {
     "name": "stdout",
     "output_type": "stream",
     "text": [
      "[5 7 9]\n"
     ]
    }
   ],
   "source": [
    "c = np.array([[1, 2, 3], [4, 5, 6]])\n",
    "sum_axis0 = c.sum(axis=0)\n",
    "print(sum_axis0)"
   ]
  },
  {
   "cell_type": "code",
   "execution_count": 39,
   "id": "09754835",
   "metadata": {},
   "outputs": [],
   "source": [
    "sum_axis1=c.sum(axis=1)"
   ]
  },
  {
   "cell_type": "code",
   "execution_count": 40,
   "id": "455a6017",
   "metadata": {},
   "outputs": [
    {
     "name": "stdout",
     "output_type": "stream",
     "text": [
      "[ 6 15]\n"
     ]
    }
   ],
   "source": [
    "print(sum_axis1)"
   ]
  },
  {
   "cell_type": "code",
   "execution_count": 41,
   "id": "75e234a9",
   "metadata": {},
   "outputs": [],
   "source": [
    "A=np.random.rand(10)\n",
    "B=np.random.rand(10)\n",
    "c=np.subtract(A,B)"
   ]
  },
  {
   "cell_type": "code",
   "execution_count": 42,
   "id": "d5624791",
   "metadata": {},
   "outputs": [
    {
     "data": {
      "text/plain": [
       "array([-0.90556732, -0.57703624, -0.07477365,  0.16086874,  0.18951564,\n",
       "        0.24535604, -0.404746  ,  0.18905446,  0.20346677, -0.06209143])"
      ]
     },
     "execution_count": 42,
     "metadata": {},
     "output_type": "execute_result"
    }
   ],
   "source": [
    "c"
   ]
  },
  {
   "cell_type": "code",
   "execution_count": 43,
   "id": "5b9da1ed",
   "metadata": {},
   "outputs": [],
   "source": [
    "C=A-B"
   ]
  },
  {
   "cell_type": "code",
   "execution_count": 44,
   "id": "7b3968a3",
   "metadata": {},
   "outputs": [
    {
     "data": {
      "text/plain": [
       "array([-0.90556732, -0.57703624, -0.07477365,  0.16086874,  0.18951564,\n",
       "        0.24535604, -0.404746  ,  0.18905446,  0.20346677, -0.06209143])"
      ]
     },
     "execution_count": 44,
     "metadata": {},
     "output_type": "execute_result"
    }
   ],
   "source": [
    "C\n",
    "\n"
   ]
  },
  {
   "cell_type": "code",
   "execution_count": 45,
   "id": "9994ffa7",
   "metadata": {},
   "outputs": [],
   "source": [
    "C=np.multiply(A,B)\n",
    "D=A*B"
   ]
  },
  {
   "cell_type": "code",
   "execution_count": 46,
   "id": "f0d4b59d",
   "metadata": {},
   "outputs": [
    {
     "data": {
      "text/plain": [
       "array([0.04394671, 0.40946123, 0.9124494 , 0.06735028, 0.0025368 ,\n",
       "       0.48330506, 0.10060797, 0.34130518, 0.0016746 , 0.39090741])"
      ]
     },
     "execution_count": 46,
     "metadata": {},
     "output_type": "execute_result"
    }
   ],
   "source": [
    "C"
   ]
  },
  {
   "cell_type": "code",
   "execution_count": 47,
   "id": "28d24aa4",
   "metadata": {},
   "outputs": [
    {
     "data": {
      "text/plain": [
       "array([0.04394671, 0.40946123, 0.9124494 , 0.06735028, 0.0025368 ,\n",
       "       0.48330506, 0.10060797, 0.34130518, 0.0016746 , 0.39090741])"
      ]
     },
     "execution_count": 47,
     "metadata": {},
     "output_type": "execute_result"
    }
   ],
   "source": [
    "D"
   ]
  },
  {
   "cell_type": "code",
   "execution_count": 48,
   "id": "f33c2d71",
   "metadata": {},
   "outputs": [],
   "source": [
    "C=np.power(A,B)"
   ]
  },
  {
   "cell_type": "code",
   "execution_count": 49,
   "id": "0c2fecde",
   "metadata": {},
   "outputs": [
    {
     "data": {
      "text/plain": [
       "array([0.05356234, 0.4169139 , 0.91908647, 0.81903275, 0.98012442,\n",
       "       0.89614811, 0.36340046, 0.82930281, 0.98776442, 0.71092608])"
      ]
     },
     "execution_count": 49,
     "metadata": {},
     "output_type": "execute_result"
    }
   ],
   "source": [
    "C"
   ]
  },
  {
   "cell_type": "code",
   "execution_count": 50,
   "id": "ccdc3982",
   "metadata": {},
   "outputs": [],
   "source": [
    "C=A**B"
   ]
  },
  {
   "cell_type": "code",
   "execution_count": 51,
   "id": "6cd4c33f",
   "metadata": {},
   "outputs": [
    {
     "data": {
      "text/plain": [
       "array([0.05356234, 0.4169139 , 0.91908647, 0.81903275, 0.98012442,\n",
       "       0.89614811, 0.36340046, 0.82930281, 0.98776442, 0.71092608])"
      ]
     },
     "execution_count": 51,
     "metadata": {},
     "output_type": "execute_result"
    }
   ],
   "source": [
    "C"
   ]
  },
  {
   "cell_type": "code",
   "execution_count": 52,
   "id": "9e15bef9",
   "metadata": {},
   "outputs": [
    {
     "data": {
      "text/plain": [
       "array([0.046175  , 0.4134106 , 0.91856672, 0.16086874, 0.00120447,\n",
       "       0.24535604, 0.17387532, 0.18905446, 0.0054198 , 0.59495049])"
      ]
     },
     "execution_count": 52,
     "metadata": {},
     "output_type": "execute_result"
    }
   ],
   "source": [
    "A%B"
   ]
  },
  {
   "cell_type": "code",
   "execution_count": 53,
   "id": "0b8e0eb8",
   "metadata": {},
   "outputs": [],
   "source": [
    "A=np.random.randint(1,10,10)"
   ]
  },
  {
   "cell_type": "code",
   "execution_count": 54,
   "id": "882725d5",
   "metadata": {},
   "outputs": [
    {
     "data": {
      "text/plain": [
       "(10,)"
      ]
     },
     "execution_count": 54,
     "metadata": {},
     "output_type": "execute_result"
    }
   ],
   "source": [
    "A.shape"
   ]
  },
  {
   "cell_type": "code",
   "execution_count": 55,
   "id": "ff1ea38a",
   "metadata": {},
   "outputs": [
    {
     "data": {
      "text/plain": [
       "array([5, 4, 2, 1, 3, 6, 5, 1, 1, 0], dtype=int32)"
      ]
     },
     "execution_count": 55,
     "metadata": {},
     "output_type": "execute_result"
    }
   ],
   "source": [
    "B=np.random.randint(1,10,10)\n",
    "A%B"
   ]
  },
  {
   "cell_type": "code",
   "execution_count": 56,
   "id": "ea2b38bc",
   "metadata": {},
   "outputs": [
    {
     "data": {
      "text/plain": [
       "array([8, 5, 3, 6, 8, 7, 7, 2, 3, 4])"
      ]
     },
     "execution_count": 56,
     "metadata": {},
     "output_type": "execute_result"
    }
   ],
   "source": [
    "B"
   ]
  },
  {
   "cell_type": "code",
   "execution_count": 57,
   "id": "ef94e943",
   "metadata": {},
   "outputs": [],
   "source": [
    "C=np.mod(A,B)"
   ]
  },
  {
   "cell_type": "code",
   "execution_count": 58,
   "id": "dac2222a",
   "metadata": {},
   "outputs": [
    {
     "data": {
      "text/plain": [
       "array([5, 4, 2, 1, 3, 6, 5, 1, 1, 0], dtype=int32)"
      ]
     },
     "execution_count": 58,
     "metadata": {},
     "output_type": "execute_result"
    }
   ],
   "source": [
    "C"
   ]
  },
  {
   "cell_type": "code",
   "execution_count": 59,
   "id": "00135bff",
   "metadata": {},
   "outputs": [
    {
     "data": {
      "text/plain": [
       "array([40., 41., 42., 43., 44., 45., 46., 47., 48., 49., 50., 51., 52.,\n",
       "       53., 54., 55., 56., 57., 58., 59.])"
      ]
     },
     "execution_count": 59,
     "metadata": {},
     "output_type": "execute_result"
    }
   ],
   "source": [
    " A=np.arange(100).reshape(5,20)\n",
    "A.mean(axis=0)"
   ]
  },
  {
   "cell_type": "code",
   "execution_count": 60,
   "id": "ed49c6a0",
   "metadata": {},
   "outputs": [
    {
     "data": {
      "text/plain": [
       "(5, 20)"
      ]
     },
     "execution_count": 60,
     "metadata": {},
     "output_type": "execute_result"
    }
   ],
   "source": [
    "A.shape"
   ]
  },
  {
   "cell_type": "code",
   "execution_count": 61,
   "id": "3fc29f4d",
   "metadata": {},
   "outputs": [],
   "source": [
    "A=np.random.rand(1000).reshape(5,4,2,5,5)"
   ]
  },
  {
   "cell_type": "code",
   "execution_count": 62,
   "id": "f4302306",
   "metadata": {},
   "outputs": [
    {
     "data": {
      "text/plain": [
       "(5, 4, 2, 5, 5)"
      ]
     },
     "execution_count": 62,
     "metadata": {},
     "output_type": "execute_result"
    }
   ],
   "source": [
    "A.shape"
   ]
  },
  {
   "cell_type": "code",
   "execution_count": 63,
   "id": "96f2d23c",
   "metadata": {},
   "outputs": [
    {
     "data": {
      "text/plain": [
       "(5, 4, 2, 5)"
      ]
     },
     "execution_count": 63,
     "metadata": {},
     "output_type": "execute_result"
    }
   ],
   "source": [
    "B=A.sum(axis=3)\n",
    "B.shape"
   ]
  },
  {
   "cell_type": "code",
   "execution_count": 65,
   "id": "9c467c73",
   "metadata": {},
   "outputs": [
    {
     "data": {
      "text/plain": [
       "509.1748992502027"
      ]
     },
     "execution_count": 65,
     "metadata": {},
     "output_type": "execute_result"
    }
   ],
   "source": [
    "B.sum()"
   ]
  },
  {
   "cell_type": "code",
   "execution_count": 66,
   "id": "522a3c15",
   "metadata": {},
   "outputs": [
    {
     "data": {
      "text/plain": [
       "509.1748992502027"
      ]
     },
     "execution_count": 66,
     "metadata": {},
     "output_type": "execute_result"
    }
   ],
   "source": [
    "B.sum(axis=0).sum(axis=0).sum(axis=0).sum()"
   ]
  },
  {
   "cell_type": "code",
   "execution_count": 68,
   "id": "2e48338a",
   "metadata": {},
   "outputs": [],
   "source": [
    " A=np.random.rand(5)"
   ]
  },
  {
   "cell_type": "code",
   "execution_count": 69,
   "id": "54ee2035",
   "metadata": {},
   "outputs": [
    {
     "data": {
      "text/plain": [
       "array([0.50700181, 0.3330577 , 0.14013788, 0.64909725, 0.71854131])"
      ]
     },
     "execution_count": 69,
     "metadata": {},
     "output_type": "execute_result"
    }
   ],
   "source": [
    "np.sin(A)"
   ]
  },
  {
   "cell_type": "code",
   "execution_count": 71,
   "id": "234caeab",
   "metadata": {},
   "outputs": [
    {
     "data": {
      "text/plain": [
       "array([0.50700181, 0.3330577 , 0.14013788, 0.64909725, 0.71854131])"
      ]
     },
     "execution_count": 71,
     "metadata": {},
     "output_type": "execute_result"
    }
   ],
   "source": [
    "np.sin(A)"
   ]
  },
  {
   "cell_type": "code",
   "execution_count": 72,
   "id": "ba28a548",
   "metadata": {},
   "outputs": [
    {
     "data": {
      "text/plain": [
       "array([0.86194499, 0.94290645, 0.990132  , 0.76070543, 0.69548429])"
      ]
     },
     "execution_count": 72,
     "metadata": {},
     "output_type": "execute_result"
    }
   ],
   "source": [
    "np.cos(A)"
   ]
  },
  {
   "cell_type": "code",
   "execution_count": 73,
   "id": "2c38cd5d",
   "metadata": {},
   "outputs": [
    {
     "data": {
      "text/plain": [
       "array([0.56060988, 0.34643266, 0.14106809, 0.78439504, 0.93013838])"
      ]
     },
     "execution_count": 73,
     "metadata": {},
     "output_type": "execute_result"
    }
   ],
   "source": [
    "np.arcsin(A)"
   ]
  },
  {
   "cell_type": "code",
   "execution_count": 74,
   "id": "1d1ca87c",
   "metadata": {},
   "outputs": [],
   "source": [
    "A=np.random.rand(5)\n",
    "B=np.random.rand(5)\n",
    "R=np.greater(A,B)"
   ]
  },
  {
   "cell_type": "code",
   "execution_count": 75,
   "id": "de68bd1c",
   "metadata": {},
   "outputs": [
    {
     "data": {
      "text/plain": [
       "array([False, False, False,  True, False])"
      ]
     },
     "execution_count": 75,
     "metadata": {},
     "output_type": "execute_result"
    }
   ],
   "source": [
    "R"
   ]
  },
  {
   "cell_type": "code",
   "execution_count": 76,
   "id": "e177206c",
   "metadata": {},
   "outputs": [
    {
     "data": {
      "text/plain": [
       "array([0.68953803, 0.67413119, 0.20088844, 0.89219185, 0.04558353])"
      ]
     },
     "execution_count": 76,
     "metadata": {},
     "output_type": "execute_result"
    }
   ],
   "source": [
    "A\n"
   ]
  },
  {
   "cell_type": "code",
   "execution_count": 77,
   "id": "2cf29515",
   "metadata": {},
   "outputs": [
    {
     "data": {
      "text/plain": [
       "array([0.76996029, 0.95310371, 0.82497617, 0.70435583, 0.5303202 ])"
      ]
     },
     "execution_count": 77,
     "metadata": {},
     "output_type": "execute_result"
    }
   ],
   "source": [
    "B"
   ]
  },
  {
   "cell_type": "code",
   "execution_count": 78,
   "id": "4c4bfb0d",
   "metadata": {},
   "outputs": [],
   "source": [
    "R=A>B"
   ]
  },
  {
   "cell_type": "code",
   "execution_count": 79,
   "id": "dfc776c3",
   "metadata": {},
   "outputs": [
    {
     "data": {
      "text/plain": [
       "array([False, False, False,  True, False])"
      ]
     },
     "execution_count": 79,
     "metadata": {},
     "output_type": "execute_result"
    }
   ],
   "source": [
    "R"
   ]
  },
  {
   "cell_type": "code",
   "execution_count": 80,
   "id": "34d139d3",
   "metadata": {},
   "outputs": [],
   "source": [
    "A=np.random.rand(10)"
   ]
  },
  {
   "cell_type": "code",
   "execution_count": 85,
   "id": "ce8760ba",
   "metadata": {},
   "outputs": [],
   "source": [
    "R1=A<0.5"
   ]
  },
  {
   "cell_type": "code",
   "execution_count": 86,
   "id": "d2b1f7b2",
   "metadata": {},
   "outputs": [],
   "source": [
    "R2=~R1"
   ]
  },
  {
   "cell_type": "code",
   "execution_count": 87,
   "id": "2047024b",
   "metadata": {},
   "outputs": [
    {
     "data": {
      "text/plain": [
       "array([False, False, False,  True, False,  True,  True, False, False,\n",
       "       False])"
      ]
     },
     "execution_count": 87,
     "metadata": {},
     "output_type": "execute_result"
    }
   ],
   "source": [
    "R1"
   ]
  },
  {
   "cell_type": "code",
   "execution_count": 88,
   "id": "b3e7c3c8",
   "metadata": {},
   "outputs": [],
   "source": [
    "R2=np.logical_not(R1)"
   ]
  },
  {
   "cell_type": "code",
   "execution_count": 90,
   "id": "23940f28",
   "metadata": {},
   "outputs": [
    {
     "data": {
      "text/plain": [
       "array([ True,  True,  True, False,  True, False, False,  True,  True,\n",
       "        True])"
      ]
     },
     "execution_count": 90,
     "metadata": {},
     "output_type": "execute_result"
    }
   ],
   "source": [
    "R2"
   ]
  },
  {
   "cell_type": "code",
   "execution_count": 91,
   "id": "bfe0dd4c",
   "metadata": {},
   "outputs": [],
   "source": [
    "A=np.random.rand(20)"
   ]
  },
  {
   "cell_type": "code",
   "execution_count": 92,
   "id": "4c1f69f7",
   "metadata": {},
   "outputs": [],
   "source": [
    "idx=(A>0.2) &(A<0.8)"
   ]
  },
  {
   "cell_type": "code",
   "execution_count": 93,
   "id": "3b596fe4",
   "metadata": {},
   "outputs": [
    {
     "data": {
      "text/plain": [
       "array([ True, False, False, False,  True,  True,  True,  True, False,\n",
       "        True,  True,  True,  True,  True,  True,  True,  True,  True,\n",
       "        True, False])"
      ]
     },
     "execution_count": 93,
     "metadata": {},
     "output_type": "execute_result"
    }
   ],
   "source": [
    "idx"
   ]
  },
  {
   "cell_type": "code",
   "execution_count": 94,
   "id": "73789ba8",
   "metadata": {},
   "outputs": [],
   "source": [
    "A=np.random.rand(5)\n",
    "A[3]=np.nan"
   ]
  },
  {
   "cell_type": "code",
   "execution_count": 95,
   "id": "b993d0c7",
   "metadata": {},
   "outputs": [
    {
     "data": {
      "text/plain": [
       "array([0.94143163, 0.41066239, 0.52516518,        nan, 0.33394594])"
      ]
     },
     "execution_count": 95,
     "metadata": {},
     "output_type": "execute_result"
    }
   ],
   "source": [
    "A\n"
   ]
  },
  {
   "cell_type": "code",
   "execution_count": 96,
   "id": "b5cc928c",
   "metadata": {},
   "outputs": [
    {
     "data": {
      "text/plain": [
       "nan"
      ]
     },
     "execution_count": 96,
     "metadata": {},
     "output_type": "execute_result"
    }
   ],
   "source": [
    "A.sum()"
   ]
  },
  {
   "cell_type": "code",
   "execution_count": 97,
   "id": "70410a5f",
   "metadata": {},
   "outputs": [
    {
     "data": {
      "text/plain": [
       "2.211205144703449"
      ]
     },
     "execution_count": 97,
     "metadata": {},
     "output_type": "execute_result"
    }
   ],
   "source": [
    "np.nansum(A)"
   ]
  },
  {
   "cell_type": "code",
   "execution_count": 98,
   "id": "a594f2eb",
   "metadata": {},
   "outputs": [
    {
     "data": {
      "text/plain": [
       "array([False, False, False,  True, False])"
      ]
     },
     "execution_count": 98,
     "metadata": {},
     "output_type": "execute_result"
    }
   ],
   "source": [
    "np.isnan(A)"
   ]
  },
  {
   "cell_type": "code",
   "execution_count": 99,
   "id": "c2f8da42",
   "metadata": {},
   "outputs": [],
   "source": [
    "A=10*np.random.rand(5)"
   ]
  },
  {
   "cell_type": "code",
   "execution_count": 100,
   "id": "a6d404df",
   "metadata": {},
   "outputs": [
    {
     "data": {
      "text/plain": [
       "array([5.34566148, 2.02881487, 3.19826597, 9.41889041, 7.91781039])"
      ]
     },
     "execution_count": 100,
     "metadata": {},
     "output_type": "execute_result"
    }
   ],
   "source": [
    "A"
   ]
  },
  {
   "cell_type": "code",
   "execution_count": 101,
   "id": "b108ec92",
   "metadata": {},
   "outputs": [
    {
     "data": {
      "text/plain": [
       "array([5., 2., 3., 9., 7.])"
      ]
     },
     "execution_count": 101,
     "metadata": {},
     "output_type": "execute_result"
    }
   ],
   "source": [
    "np.floor(A)"
   ]
  },
  {
   "cell_type": "code",
   "execution_count": 102,
   "id": "cb6c1731",
   "metadata": {},
   "outputs": [
    {
     "data": {
      "text/plain": [
       "array([ 6.,  3.,  4., 10.,  8.])"
      ]
     },
     "execution_count": 102,
     "metadata": {},
     "output_type": "execute_result"
    }
   ],
   "source": [
    "np.ceil(A)"
   ]
  },
  {
   "cell_type": "code",
   "execution_count": 103,
   "id": "3f0735ea",
   "metadata": {},
   "outputs": [
    {
     "data": {
      "text/plain": [
       "array([10., 11., 12., 13., 14.])"
      ]
     },
     "execution_count": 103,
     "metadata": {},
     "output_type": "execute_result"
    }
   ],
   "source": [
    "A=np.arange(5)\n",
    "y=np.zeros(5)\n",
    "np.add(A,10,out=y)"
   ]
  },
  {
   "cell_type": "code",
   "execution_count": 105,
   "id": "4445c0a3",
   "metadata": {},
   "outputs": [
    {
     "data": {
      "text/plain": [
       "array([10., 11., 12., 13., 14.])"
      ]
     },
     "execution_count": 105,
     "metadata": {},
     "output_type": "execute_result"
    }
   ],
   "source": [
    "y"
   ]
  },
  {
   "cell_type": "code",
   "execution_count": 106,
   "id": "27b8ebf8",
   "metadata": {},
   "outputs": [],
   "source": [
    "y=np.add(A,0)\n",
    "y=A+10\n"
   ]
  },
  {
   "cell_type": "code",
   "execution_count": 4,
   "id": "59698d52",
   "metadata": {},
   "outputs": [
    {
     "data": {
      "text/plain": [
       "array([10., 11., 12., 13., 14.])"
      ]
     },
     "execution_count": 4,
     "metadata": {},
     "output_type": "execute_result"
    }
   ],
   "source": [
    "import numpy as np\n",
    "A=np.arange(5)\n",
    "y=np.zeros(5)\n",
    "np.add(A,10,out=y)\n",
    "z=np.zeros(10)\n",
    "np.add(A,10,out=z[::2])"
   ]
  },
  {
   "cell_type": "code",
   "execution_count": 9,
   "id": "78997ef5",
   "metadata": {},
   "outputs": [
    {
     "data": {
      "text/plain": [
       "array([10.,  0., 11.,  0., 12.,  0., 13.,  0., 14.,  0.])"
      ]
     },
     "execution_count": 9,
     "metadata": {},
     "output_type": "execute_result"
    }
   ],
   "source": [
    "z\n"
   ]
  },
  {
   "cell_type": "code",
   "execution_count": 11,
   "id": "34bd195b",
   "metadata": {},
   "outputs": [],
   "source": [
    "z[::2]=A+50"
   ]
  },
  {
   "cell_type": "code",
   "execution_count": 13,
   "id": "ee2b774f",
   "metadata": {},
   "outputs": [
    {
     "data": {
      "text/plain": [
       "array([50.,  0., 51.,  0., 52.,  0., 53.,  0., 54.,  0.])"
      ]
     },
     "execution_count": 13,
     "metadata": {},
     "output_type": "execute_result"
    }
   ],
   "source": [
    "z"
   ]
  },
  {
   "cell_type": "code",
   "execution_count": null,
   "id": "ccc43795",
   "metadata": {},
   "outputs": [],
   "source": []
  }
 ],
 "metadata": {
  "kernelspec": {
   "display_name": "Python 3 (ipykernel)",
   "language": "python",
   "name": "python3"
  },
  "language_info": {
   "codemirror_mode": {
    "name": "ipython",
    "version": 3
   },
   "file_extension": ".py",
   "mimetype": "text/x-python",
   "name": "python",
   "nbconvert_exporter": "python",
   "pygments_lexer": "ipython3",
   "version": "3.9.13"
  }
 },
 "nbformat": 4,
 "nbformat_minor": 5
}
